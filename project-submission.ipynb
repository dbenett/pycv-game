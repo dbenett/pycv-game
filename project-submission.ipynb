{
 "cells": [
  {
   "cell_type": "markdown",
   "metadata": {},
   "source": [
    "# Project\n",
    "- Work solo or with one other person\n",
    "- Topic should be something interesting and fun for you\n",
    "- Your code should be written in Python 3.6\n",
    "- Effort roughly equivalent to two homeworks\n",
    "    - perhaps 150-200 lines of code\n",
    "    - sometimes people really get into it, which is fine\n",
    "        - have seen 1,000 line programs, but this is NOT necessary\n",
    "- All I'm really looking for is to see you've learned some Python and can do something with it\n",
    "- Happy to discuss your project with you if you have questions\n",
    "- Hangman games are discouraged(seen a pile of them)"
   ]
  },
  {
   "cell_type": "markdown",
   "metadata": {},
   "source": [
    "# If you did a solo project, fill in this cell\n",
    "\n",
    "```\n",
    "name:\n",
    "UNI: \n",
    "```\n",
    "\n",
    "Submit a zip file named 'yourUNI.zip' to CW2 that includes this notebook, your source, documentation, and data files. The zip must expand into a directory named 'YourUNI', and all your files should be under the YourUNI directory.\n"
   ]
  },
  {
   "cell_type": "markdown",
   "metadata": {},
   "source": [
    "# If you did a project with a partner, fill in this cell\n",
    "\n",
    "```\n",
    "name1: Daniel Benett\n",
    "UNI1: deb2174\n",
    "\n",
    "name2: Lakshmi Mounika Bodapati\n",
    "UNI2: lmb2254\n",
    "\n",
    "roughly, who did what:\n",
    "Daniel did a lot of the computer vision stuff\n",
    "Mounika did a lot of the game engine stuff\n",
    "Overall, though, we did a lot of pair programming!\n",
    "```\n",
    "\n",
    "Each of you should submit the SAME zip file named   \n",
    "'UNI1-UNI2.zip' to CW2. The zip should include this notebook, your source, documentation, and data files. The zip must expand into a directory named 'UNI1-UNI2', and all your files should be under the UNI1-UNI2 directory.\n"
   ]
  },
  {
   "cell_type": "markdown",
   "metadata": {},
   "source": [
    "# What does your project do?\n",
    "\n",
    "We made a mario style game for which the user draws levels using black, green and blue pens and can then play these levels. The user takes a picture of a level they drew on paper with a blue dot for start and green dot for end and uploads it to the program. The program uses computer vision to find the lines in the picture and allows the user to traverse these lines with a rectangle player starting at a blue dot and with a goal at the green dot.\n"
   ]
  },
  {
   "cell_type": "markdown",
   "metadata": {},
   "source": [
    "# What modules did you use, if any?\n",
    "\n",
    "We used pygame, numpy and opencv."
   ]
  },
  {
   "cell_type": "markdown",
   "metadata": {},
   "source": [
    "# Explain how we can run your project\n",
    "\n",
    "You can run the project with the following command, where <image.jpg> should be replaced with the drawn image of a level: \n",
    "\n",
    "python3 game.py <image.jpg>\n",
    "\n",
    "For example, you can use the image files in the levels folder of the directory to play a level we already drew for you. Here is the command:\n",
    "\n",
    "python3 game.py levels/level1.jpg"
   ]
  },
  {
   "cell_type": "markdown",
   "metadata": {},
   "source": [
    "# An evaluation of Python's suitability to your task\n",
    "\n",
    "\n",
    "Were any problems encountered?\n",
    "\n",
    "There were problems with the computer vision, especially finding a good way to get lines from the image while allowing shadows over the page and different lighting conditions. There were also some problems with the game physics, such as bugs that shot the player up walls. We have tried to minimize these bugs, but they still sometimes occur. \n",
    "\n",
    "\n",
    "Was Python a good fit for your project?\n",
    "\n",
    "Python was a pretty great fit for the program! The lines in the level images are turned into lists of dots, which were easily managed with some python features such as groupby and sorted. I find the python classes a little clunky and, especially if I were to make the game more complex, might prefer to use something like java for that reason, but for the more limited purposes of this program, python felt powerful and quick.      \n"
   ]
  },
  {
   "cell_type": "code",
   "execution_count": null,
   "metadata": {},
   "outputs": [],
   "source": []
  }
 ],
 "metadata": {
  "kernelspec": {
   "display_name": "Python 3",
   "language": "python",
   "name": "python3"
  },
  "language_info": {
   "codemirror_mode": {
    "name": "ipython",
    "version": 3
   },
   "file_extension": ".py",
   "mimetype": "text/x-python",
   "name": "python",
   "nbconvert_exporter": "python",
   "pygments_lexer": "ipython3",
   "version": "3.6.3"
  }
 },
 "nbformat": 4,
 "nbformat_minor": 1
}
